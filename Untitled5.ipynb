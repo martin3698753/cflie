{
 "cells": [
  {
   "cell_type": "code",
   "execution_count": 7,
   "id": "873213e8-0e98-4b46-8537-03eaacdd502a",
   "metadata": {},
   "outputs": [],
   "source": [
    "import torch\n",
    "import torch.nn as nn\n",
    "import torch.optim as optim\n",
    "import numpy as np\n",
    "import matplotlib.pyplot as plt\n",
    "from torch.utils.data import Dataset, DataLoader\n",
    "import maketab as mt\n",
    "\n",
    "class CreateDataset(Dataset):\n",
    "    def __init__(self, data, n, m):\n",
    "        self.data = data\n",
    "        self.n = n  # Sequence length\n",
    "        self.m = m  # Prediction length\n",
    "        self.total_length = len(self.data)\n",
    "\n",
    "    def __len__(self):\n",
    "        return self.total_length - self.n - self.m + 1\n",
    "\n",
    "    def __getitem__(self, idx):\n",
    "        x = self.data[idx:idx + self.n]\n",
    "        y = self.data[idx + self.n:idx + self.n + self.m]\n",
    "        x = torch.tensor(x, dtype=torch.float32).unsqueeze(-1)  # Add feature dimension\n",
    "        y = torch.tensor(y, dtype=torch.float32).unsqueeze(-1)\n",
    "        return x, y\n",
    "\n",
    "class AutoregressivePredictor(nn.Module):\n",
    "    def __init__(self, input_size=1, hidden_size=64, num_layers=2):\n",
    "        super().__init__()\n",
    "        self.lstm = nn.LSTM(input_size, hidden_size, num_layers, batch_first=True)\n",
    "        self.fc = nn.Linear(hidden_size, 1)  # Predicts only 1 step\n",
    "\n",
    "    def forward(self, x, pred_steps=1):\n",
    "        outputs = []\n",
    "        for _ in range(pred_steps):\n",
    "            out, _ = self.lstm(x)\n",
    "            pred = self.fc(out[:, -1, :])  # Take last step\n",
    "            outputs.append(pred)\n",
    "            x = torch.cat([x[:, 1:, :], pred.unsqueeze(1)], dim=1)  # Slide window\n",
    "        return torch.cat(outputs, dim=1)\n",
    "\n",
    "def train_model(model, dataloader, epochs, pred_len):\n",
    "    model.train()\n",
    "    losses = []\n",
    "    for epoch in range(epochs):\n",
    "        epoch_loss = 0\n",
    "        for batch_x, batch_y in dataloader:\n",
    "            optimizer.zero_grad()\n",
    "            \n",
    "            # Train with teacher forcing (predict pred_len steps)\n",
    "            outputs = model(batch_x, pred_steps=pred_len)\n",
    "            \n",
    "            loss = criterion(outputs, batch_y.squeeze(-1))\n",
    "            loss.backward()\n",
    "            optimizer.step()\n",
    "            epoch_loss += loss.item()\n",
    "        \n",
    "        avg_loss = epoch_loss / len(dataloader)\n",
    "        if epoch % 10 == 0:\n",
    "            print(f'Epoch {epoch}, Loss: {avg_loss:.6f}')\n",
    "        losses.append(avg_loss)   \n",
    "    return model\n",
    "\n",
    "\n",
    "# Hyperparameters\n",
    "seq_len = 3  # Input sequence length\n",
    "pred_len = 2  # Prediction length during training\n",
    "hidden_size = 4\n",
    "num_layers = 1\n",
    "batch_size = 1\n",
    "epochs = 100\n",
    "learning_rate = 0.001\n",
    "\n",
    "# Generate and normalize data\n",
    "#data_length = 500\n",
    "#ts_data = data(data_length)  # Your synthetic time series\n",
    "#t = np.arange(data_length)   # Time axis for plotting\n",
    "ts_data = np.array([0.1, 0.2, 0.3, 0.4, 0.5, 0.6, 0.7, 0.8, 0.9])"
   ]
  },
  {
   "cell_type": "code",
   "execution_count": 8,
   "id": "acbb823f-9579-445b-ae56-7c20d46443ba",
   "metadata": {},
   "outputs": [
    {
     "name": "stdout",
     "output_type": "stream",
     "text": [
      "X: tensor([[[0.1000],\n",
      "         [0.2000],\n",
      "         [0.3000]]])\n",
      "y: tensor([[[0.4000],\n",
      "         [0.5000]]])\n",
      "X: tensor([[[0.2000],\n",
      "         [0.3000],\n",
      "         [0.4000]]])\n",
      "y: tensor([[[0.5000],\n",
      "         [0.6000]]])\n",
      "X: tensor([[[0.3000],\n",
      "         [0.4000],\n",
      "         [0.5000]]])\n",
      "y: tensor([[[0.6000],\n",
      "         [0.7000]]])\n",
      "X: tensor([[[0.4000],\n",
      "         [0.5000],\n",
      "         [0.6000]]])\n",
      "y: tensor([[[0.7000],\n",
      "         [0.8000]]])\n",
      "X: tensor([[[0.5000],\n",
      "         [0.6000],\n",
      "         [0.7000]]])\n",
      "y: tensor([[[0.8000],\n",
      "         [0.9000]]])\n"
     ]
    }
   ],
   "source": [
    "dataset = CreateDataset(ts_data, seq_len, pred_len)\n",
    "dataloader = DataLoader(dataset, batch_size=batch_size, shuffle=False)\n",
    "for x,y in dataloader:\n",
    "    print(f\"X: {x}\")\n",
    "    print(f\"y: {y}\")"
   ]
  },
  {
   "cell_type": "code",
   "execution_count": 9,
   "id": "4101261d-b7ee-4bc2-b267-186ca37beaaa",
   "metadata": {},
   "outputs": [
    {
     "name": "stdout",
     "output_type": "stream",
     "text": [
      "Epoch 0, Loss: 0.607941\n",
      "Epoch 10, Loss: 0.417107\n",
      "Epoch 20, Loss: 0.282746\n",
      "Epoch 30, Loss: 0.171185\n",
      "Epoch 40, Loss: 0.080873\n",
      "Epoch 50, Loss: 0.026234\n",
      "Epoch 60, Loss: 0.011206\n",
      "Epoch 70, Loss: 0.009966\n",
      "Epoch 80, Loss: 0.009397\n",
      "Epoch 90, Loss: 0.008756\n"
     ]
    }
   ],
   "source": [
    "model = AutoregressivePredictor(input_size=1, hidden_size=hidden_size, num_layers=num_layers)\n",
    "criterion = nn.MSELoss()\n",
    "optimizer = optim.Adam(model.parameters(), lr=learning_rate)\n",
    "\n",
    "model = train_model(model, dataloader, epochs, pred_len)"
   ]
  },
  {
   "cell_type": "code",
   "execution_count": 10,
   "id": "a664849a-215f-4265-ab1b-f095e55e2811",
   "metadata": {},
   "outputs": [
    {
     "name": "stdout",
     "output_type": "stream",
     "text": [
      "tensor([[[0.4000],\n",
      "         [0.5000],\n",
      "         [0.6000]]])\n",
      "[0.6811351  0.71943045]\n"
     ]
    }
   ],
   "source": [
    "def evaluate_model(model, data, seq_len, eval_pred_len=20, start_idx=0):\n",
    "    model.eval()\n",
    "    t = np.arange(len(data))\n",
    "    \n",
    "    # Select a test sequence\n",
    "    test_input = torch.tensor(data[start_idx:start_idx+seq_len], \n",
    "                            dtype=torch.float32).unsqueeze(0).unsqueeze(-1)\n",
    "    \n",
    "    # Make predictions autoregressively\n",
    "    with torch.no_grad():\n",
    "        predictions = model(test_input, pred_steps=eval_pred_len).numpy().flatten()\n",
    "    print(test_input)\n",
    "    print(predictions)\n",
    "\n",
    "# Evaluate with different prediction lengths\n",
    "evaluate_model(model, ts_data, seq_len, eval_pred_len=2, start_idx=3)"
   ]
  },
  {
   "cell_type": "code",
   "execution_count": null,
   "id": "299a7890-52f0-460d-b166-f3aa01258e09",
   "metadata": {},
   "outputs": [],
   "source": []
  }
 ],
 "metadata": {
  "kernelspec": {
   "display_name": "Python 3 (ipykernel)",
   "language": "python",
   "name": "python3"
  },
  "language_info": {
   "codemirror_mode": {
    "name": "ipython",
    "version": 3
   },
   "file_extension": ".py",
   "mimetype": "text/x-python",
   "name": "python",
   "nbconvert_exporter": "python",
   "pygments_lexer": "ipython3",
   "version": "3.13.2"
  }
 },
 "nbformat": 4,
 "nbformat_minor": 5
}
