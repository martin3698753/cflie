{
 "cells": [
  {
   "cell_type": "code",
   "execution_count": null,
   "id": "70c34331-ee30-4d82-b7c5-5f76ad17020b",
   "metadata": {},
   "outputs": [],
   "source": []
  }
 ],
 "metadata": {
  "kernelspec": {
   "display_name": "",
   "name": ""
  },
  "language_info": {
   "name": ""
  }
 },
 "nbformat": 4,
 "nbformat_minor": 5
}
