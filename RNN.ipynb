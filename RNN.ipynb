{
 "cells": [
  {
   "cell_type": "code",
   "execution_count": 148,
   "id": "a9765966-cb71-4589-9175-1a6600a6691e",
   "metadata": {},
   "outputs": [],
   "source": [
    "import numpy as np\n",
    "import torch\n",
    "import torch.nn as nn\n",
    "import torch.optim as optim\n",
    "import matplotlib.pyplot as plt\n",
    "from torch.utils.data import Dataset, DataLoader\n",
    "from sklearn.preprocessing import MinMaxScaler\n",
    "import maketab as mt\n",
    "\n",
    "norm_upper = 4\n",
    "norm_lower = 2"
   ]
  },
  {
   "cell_type": "code",
   "execution_count": 149,
   "id": "3efa1808-bc49-4032-9800-14ff34560cb4",
   "metadata": {},
   "outputs": [],
   "source": [
    "#real data\n",
    "\n",
    "def norm(signal):\n",
    "    signal = (signal - norm_lower) / (norm_upper - norm_lower)\n",
    "    return signal\n",
    "\n",
    "def load_data(path_dir='data/5-2-25/'):\n",
    "    t, signal = mt.battery(path_dir)\n",
    "    tleft = 1 - t / max(t)\n",
    "    return norm(signal[50:500])\n",
    "\n",
    "#plt.plot(load_data())\n",
    "#plt.show()"
   ]
  },
  {
   "cell_type": "code",
   "execution_count": null,
   "id": "165b31e8-57ae-4e9c-ba33-e08ad5a0e0b6",
   "metadata": {},
   "outputs": [],
   "source": [
    "#Testing with artificial data\n",
    "def generate_data(num_points=500, noise_std=0.1):\n",
    "    x = np.arange(num_points)\n",
    "    y = np.exp(x / 200) + 0.3*np.sin(x/20)  # Exponential + sinewave harmonics\n",
    "    y += np.random.normal(scale=noise_std, size=num_points)  # Add noise\n",
    "\n",
    "    scaler = MinMaxScaler(feature_range=(-1, 1))\n",
    "    y = scaler.fit_transform(y.reshape(-1, 1)).flatten()\n",
    "    print(y.shape)\n",
    "    return y\n",
    "\n",
    "#plt.plot(generate_data())\n",
    "#plt.show()"
   ]
  },
  {
   "cell_type": "code",
   "execution_count": 150,
   "id": "9c34bc4b-f947-4b16-977b-3bea1dfa6701",
   "metadata": {},
   "outputs": [],
   "source": [
    "class TimeSeriesDataset(Dataset):\n",
    "    def __init__(self, data, seq_length):\n",
    "        self.data = data\n",
    "        self.seq_length = seq_length\n",
    "        self.sequences, self.targets = self.create_sequences()\n",
    "    \n",
    "    def create_sequences(self):\n",
    "        sequences, targets = [], []\n",
    "        for i in range(len(self.data) - self.seq_length):\n",
    "            sequences.append(self.data[i:i + self.seq_length])\n",
    "            targets.append(self.data[i + self.seq_length])\n",
    "        return np.array(sequences), np.array(targets)\n",
    "    \n",
    "    def __len__(self):\n",
    "        return len(self.sequences)\n",
    "    \n",
    "    def __getitem__(self, idx):\n",
    "        return torch.tensor(self.sequences[idx], dtype=torch.float32), torch.tensor(self.targets[idx], dtype=torch.float32)"
   ]
  },
  {
   "cell_type": "code",
   "execution_count": 151,
   "id": "a3eb4cdf-188f-4bcd-a88b-406c37075f7c",
   "metadata": {},
   "outputs": [],
   "source": [
    "class ElmanRNN(nn.Module):\n",
    "    def __init__(self, input_size=1, hidden_size=100, output_size=1, num_layers=2):\n",
    "        super(ElmanRNN, self).__init__()\n",
    "        self.rnn = nn.LSTM(input_size, hidden_size, num_layers=num_layers, batch_first=True)\n",
    "        self.fc = nn.Linear(hidden_size, output_size)\n",
    "    \n",
    "    def forward(self, x):\n",
    "        out, _ = self.rnn(x)\n",
    "        out = self.fc(out[:, -1, :])  # Take last time step's output\n",
    "        return out"
   ]
  },
  {
   "cell_type": "code",
   "execution_count": 152,
   "id": "186bc9ba-8766-4729-83f0-9fb427571fc8",
   "metadata": {},
   "outputs": [],
   "source": [
    "def train_model(model, train_loader, epochs=100, lr=0.001):\n",
    "    criterion = nn.MSELoss()\n",
    "    optimizer = optim.Adam(model.parameters(), lr=lr)\n",
    "    \n",
    "    for epoch in range(epochs):\n",
    "        total_loss = 0\n",
    "        for batch_x, batch_y in train_loader:\n",
    "            batch_x = batch_x.unsqueeze(-1)  # Add feature dimension\n",
    "            optimizer.zero_grad()\n",
    "            output = model(batch_x)\n",
    "            loss = criterion(output.squeeze(), batch_y)\n",
    "            loss.backward()\n",
    "            optimizer.step()\n",
    "            total_loss += loss.item()\n",
    "        \n",
    "        if epoch % 10 == 0:\n",
    "            print(f'Epoch {epoch}, Loss: {total_loss / len(train_loader):.4f}')"
   ]
  },
  {
   "cell_type": "code",
   "execution_count": 157,
   "id": "ddf9e243-65ac-4a77-8249-e97790d874f1",
   "metadata": {},
   "outputs": [],
   "source": [
    "def recursive_forecast(model, data, seq_length, start_index, forecast_length, theta=100):\n",
    "    model.eval()\n",
    "    forecast = data[start_index:start_index + seq_length]  # Start with true data\n",
    "    \n",
    "    for i in range(forecast_length):\n",
    "        seq = torch.tensor(forecast[-seq_length:], dtype=torch.float32).unsqueeze(0).unsqueeze(-1)\n",
    "        pred = model(seq).item()\n",
    "        forecast.append(pred)\n",
    "\n",
    "        # Every `theta` steps, reset by using actual data\n",
    "        if (i + 1) % theta == 0 and start_index + len(forecast) < len(data):\n",
    "            forecast[-seq_length:] = data[start_index + len(forecast) - seq_length : start_index + len(forecast)]\n",
    "\n",
    "    return forecast"
   ]
  },
  {
   "cell_type": "code",
   "execution_count": 158,
   "id": "e7494e99-2e85-475f-bb21-96f708a95ff9",
   "metadata": {},
   "outputs": [],
   "source": [
    "data = load_data()\n",
    "seq_length = 90\n",
    "batch_size = 16  # Adjust for performance\n",
    "seq_length_test = 30\n",
    "theta = 90\n",
    "total_length = len(data)\n",
    "interval_length = total_length // 3\n",
    "model = ElmanRNN(hidden_size=50, num_layers=3)"
   ]
  },
  {
   "cell_type": "code",
   "execution_count": 155,
   "id": "03326dce-0217-42bb-95fb-0ffd938b2b3b",
   "metadata": {},
   "outputs": [
    {
     "name": "stdout",
     "output_type": "stream",
     "text": [
      "Epoch 0, Loss: 0.3145\n",
      "Epoch 10, Loss: 0.0002\n",
      "Epoch 20, Loss: 0.0002\n",
      "Epoch 30, Loss: 0.0002\n",
      "Epoch 40, Loss: 0.0002\n",
      "Epoch 50, Loss: 0.0002\n",
      "Epoch 60, Loss: 0.0002\n",
      "Epoch 70, Loss: 0.0002\n",
      "Epoch 80, Loss: 0.0002\n",
      "Epoch 90, Loss: 0.0002\n"
     ]
    }
   ],
   "source": [
    "dataset = TimeSeriesDataset(data, seq_length)\n",
    "train_loader = DataLoader(dataset, batch_size=batch_size, shuffle=True)\n",
    "train_model(model, train_loader, epochs=100, lr=0.001)"
   ]
  },
  {
   "cell_type": "code",
   "execution_count": 159,
   "id": "241f372e-0432-479f-88fc-442c9ad570f9",
   "metadata": {},
   "outputs": [
    {
     "ename": "AttributeError",
     "evalue": "'numpy.ndarray' object has no attribute 'append'",
     "output_type": "error",
     "traceback": [
      "\u001b[0;31m---------------------------------------------------------------------------\u001b[0m",
      "\u001b[0;31mAttributeError\u001b[0m                            Traceback (most recent call last)",
      "Cell \u001b[0;32mIn[159], line 1\u001b[0m\n\u001b[0;32m----> 1\u001b[0m forecast_1 \u001b[38;5;241m=\u001b[39m \u001b[43mrecursive_forecast\u001b[49m\u001b[43m(\u001b[49m\u001b[43mmodel\u001b[49m\u001b[43m,\u001b[49m\u001b[43m \u001b[49m\u001b[43mdata\u001b[49m\u001b[43m,\u001b[49m\u001b[43m \u001b[49m\u001b[43mseq_length_test\u001b[49m\u001b[43m,\u001b[49m\u001b[43m \u001b[49m\u001b[38;5;241;43m0\u001b[39;49m\u001b[43m,\u001b[49m\u001b[43m \u001b[49m\u001b[43minterval_length\u001b[49m\u001b[43m,\u001b[49m\u001b[43m \u001b[49m\u001b[43mtheta\u001b[49m\u001b[38;5;241;43m=\u001b[39;49m\u001b[43mtheta\u001b[49m\u001b[43m)\u001b[49m\n\u001b[1;32m      3\u001b[0m forecast_2 \u001b[38;5;241m=\u001b[39m recursive_forecast(model, data, seq_length_test, interval_length, interval_length, theta\u001b[38;5;241m=\u001b[39mtheta)\n\u001b[1;32m      5\u001b[0m forecast_3 \u001b[38;5;241m=\u001b[39m recursive_forecast(model, data, seq_length_test, \u001b[38;5;241m2\u001b[39m\u001b[38;5;241m*\u001b[39minterval_length, interval_length, theta\u001b[38;5;241m=\u001b[39mtheta)\n",
      "Cell \u001b[0;32mIn[157], line 8\u001b[0m, in \u001b[0;36mrecursive_forecast\u001b[0;34m(model, data, seq_length, start_index, forecast_length, theta)\u001b[0m\n\u001b[1;32m      6\u001b[0m seq \u001b[38;5;241m=\u001b[39m torch\u001b[38;5;241m.\u001b[39mtensor(forecast[\u001b[38;5;241m-\u001b[39mseq_length:], dtype\u001b[38;5;241m=\u001b[39mtorch\u001b[38;5;241m.\u001b[39mfloat32)\u001b[38;5;241m.\u001b[39munsqueeze(\u001b[38;5;241m0\u001b[39m)\u001b[38;5;241m.\u001b[39munsqueeze(\u001b[38;5;241m-\u001b[39m\u001b[38;5;241m1\u001b[39m)\n\u001b[1;32m      7\u001b[0m pred \u001b[38;5;241m=\u001b[39m model(seq)\u001b[38;5;241m.\u001b[39mitem()\n\u001b[0;32m----> 8\u001b[0m \u001b[43mforecast\u001b[49m\u001b[38;5;241;43m.\u001b[39;49m\u001b[43mappend\u001b[49m(pred)\n\u001b[1;32m     10\u001b[0m \u001b[38;5;66;03m# Every `theta` steps, reset by using actual data\u001b[39;00m\n\u001b[1;32m     11\u001b[0m \u001b[38;5;28;01mif\u001b[39;00m (i \u001b[38;5;241m+\u001b[39m \u001b[38;5;241m1\u001b[39m) \u001b[38;5;241m%\u001b[39m theta \u001b[38;5;241m==\u001b[39m \u001b[38;5;241m0\u001b[39m \u001b[38;5;129;01mand\u001b[39;00m start_index \u001b[38;5;241m+\u001b[39m \u001b[38;5;28mlen\u001b[39m(forecast) \u001b[38;5;241m<\u001b[39m \u001b[38;5;28mlen\u001b[39m(data):\n",
      "\u001b[0;31mAttributeError\u001b[0m: 'numpy.ndarray' object has no attribute 'append'"
     ]
    }
   ],
   "source": [
    "forecast_1 = recursive_forecast(model, data, seq_length_test, 0, interval_length, theta=theta)\n",
    "\n",
    "forecast_2 = recursive_forecast(model, data, seq_length_test, interval_length, interval_length, theta=theta)\n",
    "\n",
    "forecast_3 = recursive_forecast(model, data, seq_length_test, 2*interval_length, interval_length, theta=theta)\n",
    "\n",
    "# Plot results\n",
    "plt.plot(range(len(data)), data, label='Original Data')\n",
    "plt.plot(range(interval_length), forecast_1[:interval_length], label='Forecast 1st third', linestyle='dashed')\n",
    "plt.plot(range(interval_length, 2 * interval_length), forecast_2[:interval_length], label='Forecast 2nd third', linestyle='dashed')\n",
    "plt.plot(range(2 * interval_length, 3 * interval_length), forecast_3[:interval_length], label='Forecast 3nd third', linestyle='dashed')\n",
    "plt.legend()\n",
    "plt.show()"
   ]
  },
  {
   "cell_type": "code",
   "execution_count": null,
   "id": "ebe240af-aa64-4217-92ca-856a2eed74c8",
   "metadata": {},
   "outputs": [],
   "source": []
  }
 ],
 "metadata": {
  "kernelspec": {
   "display_name": "Python 3 (ipykernel)",
   "language": "python",
   "name": "python3"
  },
  "language_info": {
   "codemirror_mode": {
    "name": "ipython",
    "version": 3
   },
   "file_extension": ".py",
   "mimetype": "text/x-python",
   "name": "python",
   "nbconvert_exporter": "python",
   "pygments_lexer": "ipython3",
   "version": "3.13.2"
  }
 },
 "nbformat": 4,
 "nbformat_minor": 5
}
